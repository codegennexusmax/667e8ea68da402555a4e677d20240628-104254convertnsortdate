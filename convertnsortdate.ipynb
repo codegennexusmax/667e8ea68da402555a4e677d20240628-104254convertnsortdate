{
 "cells": [
  {
   "cell_type": "markdown",
   "id": "a7a4a053",
   "metadata": {},
   "source": [
    "***GENERATED CODE FOR convertnsortdate PIPELINE.***"
   ]
  },
  {
   "cell_type": "markdown",
   "id": "00b93977",
   "metadata": {},
   "source": [
    "***DON'T EDIT THIS CODE.***"
   ]
  },
  {
   "cell_type": "markdown",
   "id": "bd5bae4a",
   "metadata": {},
   "source": [
    "***CONNECTOR FUNCTIONS TO READ DATA.***"
   ]
  },
  {
   "cell_type": "code",
   "execution_count": null,
   "id": "391e1171",
   "metadata": {},
   "outputs": [],
   "source": [
    "import os\n",
    "import datetime\n",
    "import logging\n",
    "import warnings\n",
    "warnings.filterwarnings('ignore')\n",
    "logging.basicConfig(format='%(levelname)s:%(message)s', level=logging.INFO)\n",
    "\n",
    "\n",
    "class HDFSConnector:\n",
    "\n",
    "    def fetch(spark, config):\n",
    "        ################### INPUT HADOOP HOST PORT TO CONNECT WITH ###############################\n",
    "        hdfs_server = str(os.environ['HDFS_SERVER'])\n",
    "        hdfs_port = int(os.environ['HDFS_PORT'])\n",
    "        df = spark.read.options(header='true', inferschema='true').csv(\n",
    "            f\"hdfs://{hdfs_server}:{hdfs_port}{eval(config)['url']}\", header='true')\n",
    "        display(df.limit(2).toPandas())\n",
    "        return df\n",
    "\n",
    "    def put(df, spark, config):\n",
    "        return df.write.format('csv').options(header='true' if eval(config)[\"is_header\"] == \"Use Header Line\" else 'false',\n",
    "                                              delimiter=eval(config)[\"delimiter\"]).save((\"%s %s\") % (datetime.datetime.now().strftime(\"%Y-%m-%d %H.%M.%S\")+\"_\", eval(config)['url']))\n"
   ]
  },
  {
   "cell_type": "markdown",
   "id": "ae3c84da",
   "metadata": {},
   "source": [
    "***OPERATION FUNCTIONS***"
   ]
  },
  {
   "cell_type": "code",
   "execution_count": null,
   "id": "85dc4938",
   "metadata": {},
   "outputs": [],
   "source": [
    "# No Function Applied in Data Prep\n"
   ]
  },
  {
   "cell_type": "markdown",
   "id": "a9c460da",
   "metadata": {},
   "source": [
    "***CONNECTOR FUNCTIONS TO WRITE DATA.***"
   ]
  },
  {
   "cell_type": "code",
   "execution_count": null,
   "id": "4c512b08",
   "metadata": {},
   "outputs": [],
   "source": [
    "import datetime\n",
    "import requests\n",
    "import datetime\n",
    "import logging\n",
    "import warnings\n",
    "warnings.filterwarnings('ignore')\n",
    "logging.basicConfig(format='%(levelname)s:%(message)s', level=logging.INFO)\n",
    "\n",
    "\n",
    "class NumtraConnector:\n",
    "\n",
    "    def put(inStages, inStagesData, stageId, spark, config):\n",
    "        path = eval(config)['server_url']\n",
    "        baseType = eval(config)['baseType']\n",
    "        results_url = eval(config)['results_url']\n",
    "        server = eval(config)['server']\n",
    "        originalfile = eval(config)['orignalKey']\n",
    "        eval(config)['pathOnly']\n",
    "        filename = eval(config)['filename']\n",
    "        eval(config)['ser']\n",
    "        eval(config)['user']\n",
    "        eval(config)['password']\n",
    "        eval(config)['authSource']\n",
    "        eval(config)['user_id']\n",
    "        eval(config)['parent_id']\n",
    "        eval(config)['project_id']\n",
    "        time = str(int(datetime.datetime.now().timestamp()))\n",
    "\n",
    "        inStagesData[inStages[0]]\n",
    "\n",
    "        print(path)\n",
    "        print(baseType)\n",
    "        print(results_url)\n",
    "        print(server)\n",
    "        print(originalfile)\n",
    "        print(filename)\n",
    "\n",
    "        args = {\n",
    "            'url': path,\n",
    "            'baseType': baseType,\n",
    "            'originalfile': originalfile,\n",
    "            'filename': time + filename\n",
    "        }\n",
    "\n",
    "        response = requests.post(results_url, args)\n",
    "        return response\n"
   ]
  },
  {
   "cell_type": "markdown",
   "id": "5c78726f",
   "metadata": {},
   "source": [
    "***READING DATAFRAME***"
   ]
  },
  {
   "cell_type": "code",
   "execution_count": null,
   "id": "ba81ea12",
   "metadata": {},
   "outputs": [],
   "source": [
    "############## CREATE SPARK SESSION ############################ ENTER YOUR SPARK MASTER IP AND PORT TO CONNECT TO SERVER ################\n",
    "from pyspark.sql import SparkSession\n",
    "spark = SparkSession.builder.master('local[1]').getOrCreate()\n",
    "#%run convertnsortdateHooks.ipynb\n",
    "try:\n",
    "\t#sourcePreExecutionHook()\n",
    "\n",
    "\tfilterdatanewcopysjxb = HDFSConnector.fetch(spark, \"{'url': '/FileStore/platform/testdata/1719569690733_filter_data_new - Copy.csv', 'filename': 'filter_data_new - Copy.csv', 'delimiter': ',', 'file_type': 'Delimeted', 'dbfs_token': '', 'dbfs_domain': '', 'FilePath': '/TimeSeries/CoronaHospCpblty/DataFiles/filter_data_new - Copy.csv', 'viewFileName': 'filter_data_new - Copy.csv', 'is_header': 'Use Header Line', 'baseType': 'hdfs', 'server_url': '/nexusMax/NexusMaxPlatform/uploads/platform/', 'results_url': 'http://dnm.bfirst.ai:44040/api/read/hdfs'}\")\n",
    "\n",
    "except Exception as ex: \n",
    "\tlogging.error(ex)\n",
    "#spark.stop()\n"
   ]
  },
  {
   "cell_type": "markdown",
   "id": "bab85f16",
   "metadata": {},
   "source": [
    "***PERFORMING OPERATIONS***"
   ]
  },
  {
   "cell_type": "code",
   "execution_count": null,
   "id": "e8ebd9ca",
   "metadata": {},
   "outputs": [],
   "source": [
    "#%run convertnsortdateHooks.ipynb\n",
    "try:\n",
    "\t#operationPreExecutionHook()\n",
    "\n",
    "# No Function Applied in Data Prep\n",
    "datapreparation = filterdatanewcopysjxb\n",
    "\t#operationPostExecutionHook(datapreparation)\n",
    "\n",
    "except Exception as ex: \n",
    "\tlogging.error(ex)\n"
   ]
  },
  {
   "cell_type": "markdown",
   "id": "6d671e23",
   "metadata": {},
   "source": [
    "***WRITING DATAFRAME***"
   ]
  },
  {
   "cell_type": "code",
   "execution_count": null,
   "id": "00af2f04",
   "metadata": {},
   "outputs": [],
   "source": [
    "#%run convertnsortdateHooks.ipynb\n",
    "try:\n",
    "\t#sinkPreExecutionHook()\n",
    "\n",
    "\tdatapredpipeoutput = NumtraConnector.fetch(spark, \"{'samplefile': '/FileStore/platform/sampleData/667e8eb98da402555a4e678f/part-00000-5ec3a7eb-acae-4c69-87e6-8d2a2a74304b-c000.csv', 'samplecount': 5000, 'originalcount': 742253, 'orignalKey': '/FileStore/platform/testdata/1719569690733_filter_data_new - Copy.csv', 'pathOnly': '/TimeSeries/CoronaHospCpblty/DataPredPipe', 'project_id': '667e8e928da402555a4e6778', 'parent_id': '667e8e928da402555a4e6778', 'original_schema': [{'checked': True, 'inherited': True, 'is_categorical': False, 'bad_values': '', 'nullable': 'true', 'field': 'collection_week', 'alias': 'collection_week', 'type': 'date', 'position': '0'}, {'checked': True, 'inherited': True, 'is_categorical': False, 'bad_values': '', 'nullable': 'true', 'field': 'state', 'alias': 'state', 'type': 'String', 'position': '1'}, {'checked': True, 'inherited': True, 'is_categorical': False, 'bad_values': '', 'nullable': 'true', 'field': 'city', 'alias': 'city', 'type': 'String', 'position': '2'}, {'checked': True, 'inherited': True, 'is_categorical': False, 'bad_values': '', 'nullable': 'true', 'field': 'hospital_subtype', 'alias': 'hospital_subtype', 'type': 'String', 'position': '3'}, {'checked': True, 'inherited': True, 'is_categorical': False, 'bad_values': '', 'nullable': 'true', 'field': 'fips_code', 'alias': 'fips_code', 'type': 'numeric', 'position': '4'}, {'checked': True, 'inherited': True, 'is_categorical': False, 'bad_values': '', 'nullable': 'true', 'field': 'is_metro_micro', 'alias': 'is_metro_micro', 'type': 'numeric', 'position': '5'}, {'checked': True, 'inherited': True, 'is_categorical': False, 'bad_values': '', 'nullable': 'true', 'field': 'total_beds_7_day_avg', 'alias': 'total_beds_7_day_avg', 'type': 'real', 'position': '6'}, {'checked': True, 'inherited': True, 'is_categorical': False, 'bad_values': '', 'nullable': 'true', 'field': 'inpatient_beds_used_covid_7_day_avg', 'alias': 'inpatient_beds_used_covid_7_day_avg', 'type': 'real', 'position': '7'}, {'checked': True, 'inherited': True, 'is_categorical': False, 'bad_values': '', 'nullable': 'true', 'field': 'total_beds_7_day_sum', 'alias': 'total_beds_7_day_sum', 'type': 'numeric', 'position': '8'}, {'checked': True, 'inherited': True, 'is_categorical': False, 'bad_values': '', 'nullable': 'true', 'field': 'all_adult_hospital_beds_7_day_sum', 'alias': 'all_adult_hospital_beds_7_day_sum', 'type': 'numeric', 'position': '9'}, {'checked': True, 'inherited': True, 'is_categorical': False, 'bad_values': '', 'nullable': 'true', 'field': 'all_adult_hospital_inpatient_beds_7_day_sum', 'alias': 'all_adult_hospital_inpatient_beds_7_day_sum', 'type': 'numeric', 'position': '10'}, {'checked': True, 'inherited': True, 'is_categorical': False, 'bad_values': '', 'nullable': 'true', 'field': 'inpatient_beds_used_covid_7_day_sum', 'alias': 'inpatient_beds_used_covid_7_day_sum', 'type': 'numeric', 'position': '11'}, {'checked': True, 'inherited': True, 'is_categorical': False, 'bad_values': '', 'nullable': 'true', 'field': 'total_adult_patients_hospitalized_confirmed_and_suspected_covid_7_day_sum', 'alias': 'total_adult_patients_hospitalized_confirmed_and_suspected_covid_7_day_sum', 'type': 'numeric', 'position': '12'}, {'checked': True, 'inherited': True, 'is_categorical': False, 'bad_values': '', 'nullable': 'true', 'field': 'total_adult_patients_hospitalized_confirmed_covid_7_day_sum', 'alias': 'total_adult_patients_hospitalized_confirmed_covid_7_day_sum', 'type': 'numeric', 'position': '13'}, {'checked': True, 'inherited': True, 'is_categorical': False, 'bad_values': '', 'nullable': 'true', 'field': 'inpatient_beds_7_day_sum', 'alias': 'inpatient_beds_7_day_sum', 'type': 'numeric', 'position': '14'}, {'checked': True, 'inherited': True, 'is_categorical': False, 'bad_values': '', 'nullable': 'true', 'field': 'total_icu_beds_7_day_sum', 'alias': 'total_icu_beds_7_day_sum', 'type': 'numeric', 'position': '15'}, {'checked': True, 'inherited': True, 'is_categorical': False, 'bad_values': '', 'nullable': 'true', 'field': 'total_staffed_adult_icu_beds_7_day_sum', 'alias': 'total_staffed_adult_icu_beds_7_day_sum', 'type': 'numeric', 'position': '16'}, {'checked': True, 'inherited': True, 'is_categorical': False, 'bad_values': '', 'nullable': 'true', 'field': 'icu_beds_used_7_day_sum', 'alias': 'icu_beds_used_7_day_sum', 'type': 'numeric', 'position': '17'}, {'checked': True, 'inherited': True, 'is_categorical': False, 'bad_values': '', 'nullable': 'true', 'field': 'staffed_icu_adult_patients_confirmed_and_suspected_covid_7_day_sum', 'alias': 'staffed_icu_adult_patients_confirmed_and_suspected_covid_7_day_sum', 'type': 'numeric', 'position': '18'}, {'checked': True, 'inherited': True, 'is_categorical': False, 'bad_values': '', 'nullable': 'true', 'field': 'staffed_icu_adult_patients_confirmed_covid_7_day_sum', 'alias': 'staffed_icu_adult_patients_confirmed_covid_7_day_sum', 'type': 'numeric', 'position': '19'}, {'checked': True, 'inherited': True, 'is_categorical': False, 'bad_values': '', 'nullable': 'true', 'field': 'previous_day_covid_ED_visits_7_day_sum', 'alias': 'previous_day_covid_ED_visits_7_day_sum', 'type': 'numeric', 'position': '20'}, {'checked': True, 'inherited': True, 'is_categorical': False, 'bad_values': '', 'nullable': 'true', 'field': 'previous_day_admission_adult_covid_suspected_7_day_sum', 'alias': 'previous_day_admission_adult_covid_suspected_7_day_sum', 'type': 'numeric', 'position': '21'}, {'checked': True, 'inherited': True, 'is_categorical': False, 'bad_values': '', 'nullable': 'true', 'field': 'all_pediatric_inpatient_bed_occupied_7_day_avg', 'alias': 'all_pediatric_inpatient_bed_occupied_7_day_avg', 'type': 'real', 'position': '22'}], 'actual_schema': [{'checked': True, 'inherited': True, 'is_categorical': False, 'bad_values': '', 'nullable': 'true', 'field': 'collection_week', 'alias': 'collection_week', 'type': 'date', 'position': '0'}, {'checked': True, 'inherited': True, 'is_categorical': False, 'bad_values': '', 'nullable': 'true', 'field': 'state', 'alias': 'state', 'type': 'String', 'position': '1'}, {'checked': True, 'inherited': True, 'is_categorical': False, 'bad_values': '', 'nullable': 'true', 'field': 'city', 'alias': 'city', 'type': 'String', 'position': '2'}, {'checked': True, 'inherited': True, 'is_categorical': False, 'bad_values': '', 'nullable': 'true', 'field': 'hospital_subtype', 'alias': 'hospital_subtype', 'type': 'String', 'position': '3'}, {'checked': True, 'inherited': True, 'is_categorical': False, 'bad_values': '', 'nullable': 'true', 'field': 'fips_code', 'alias': 'fips_code', 'type': 'numeric', 'position': '4'}, {'checked': True, 'inherited': True, 'is_categorical': False, 'bad_values': '', 'nullable': 'true', 'field': 'is_metro_micro', 'alias': 'is_metro_micro', 'type': 'numeric', 'position': '5'}, {'checked': True, 'inherited': True, 'is_categorical': False, 'bad_values': '', 'nullable': 'true', 'field': 'total_beds_7_day_avg', 'alias': 'total_beds_7_day_avg', 'type': 'real', 'position': '6'}, {'checked': True, 'inherited': True, 'is_categorical': False, 'bad_values': '', 'nullable': 'true', 'field': 'inpatient_beds_used_covid_7_day_avg', 'alias': 'inpatient_beds_used_covid_7_day_avg', 'type': 'real', 'position': '7'}, {'checked': True, 'inherited': True, 'is_categorical': False, 'bad_values': '', 'nullable': 'true', 'field': 'total_beds_7_day_sum', 'alias': 'total_beds_7_day_sum', 'type': 'numeric', 'position': '8'}, {'checked': True, 'inherited': True, 'is_categorical': False, 'bad_values': '', 'nullable': 'true', 'field': 'all_adult_hospital_beds_7_day_sum', 'alias': 'all_adult_hospital_beds_7_day_sum', 'type': 'numeric', 'position': '9'}, {'checked': True, 'inherited': True, 'is_categorical': False, 'bad_values': '', 'nullable': 'true', 'field': 'all_adult_hospital_inpatient_beds_7_day_sum', 'alias': 'all_adult_hospital_inpatient_beds_7_day_sum', 'type': 'numeric', 'position': '10'}, {'checked': True, 'inherited': True, 'is_categorical': False, 'bad_values': '', 'nullable': 'true', 'field': 'inpatient_beds_used_covid_7_day_sum', 'alias': 'inpatient_beds_used_covid_7_day_sum', 'type': 'numeric', 'position': '11'}, {'checked': True, 'inherited': True, 'is_categorical': False, 'bad_values': '', 'nullable': 'true', 'field': 'total_adult_patients_hospitalized_confirmed_and_suspected_covid_7_day_sum', 'alias': 'total_adult_patients_hospitalized_confirmed_and_suspected_covid_7_day_sum', 'type': 'numeric', 'position': '12'}, {'checked': True, 'inherited': True, 'is_categorical': False, 'bad_values': '', 'nullable': 'true', 'field': 'total_adult_patients_hospitalized_confirmed_covid_7_day_sum', 'alias': 'total_adult_patients_hospitalized_confirmed_covid_7_day_sum', 'type': 'numeric', 'position': '13'}, {'checked': True, 'inherited': True, 'is_categorical': False, 'bad_values': '', 'nullable': 'true', 'field': 'inpatient_beds_7_day_sum', 'alias': 'inpatient_beds_7_day_sum', 'type': 'numeric', 'position': '14'}, {'checked': True, 'inherited': True, 'is_categorical': False, 'bad_values': '', 'nullable': 'true', 'field': 'total_icu_beds_7_day_sum', 'alias': 'total_icu_beds_7_day_sum', 'type': 'numeric', 'position': '15'}, {'checked': True, 'inherited': True, 'is_categorical': False, 'bad_values': '', 'nullable': 'true', 'field': 'total_staffed_adult_icu_beds_7_day_sum', 'alias': 'total_staffed_adult_icu_beds_7_day_sum', 'type': 'numeric', 'position': '16'}, {'checked': True, 'inherited': True, 'is_categorical': False, 'bad_values': '', 'nullable': 'true', 'field': 'icu_beds_used_7_day_sum', 'alias': 'icu_beds_used_7_day_sum', 'type': 'numeric', 'position': '17'}, {'checked': True, 'inherited': True, 'is_categorical': False, 'bad_values': '', 'nullable': 'true', 'field': 'staffed_icu_adult_patients_confirmed_and_suspected_covid_7_day_sum', 'alias': 'staffed_icu_adult_patients_confirmed_and_suspected_covid_7_day_sum', 'type': 'numeric', 'position': '18'}, {'checked': True, 'inherited': True, 'is_categorical': False, 'bad_values': '', 'nullable': 'true', 'field': 'staffed_icu_adult_patients_confirmed_covid_7_day_sum', 'alias': 'staffed_icu_adult_patients_confirmed_covid_7_day_sum', 'type': 'numeric', 'position': '19'}, {'checked': True, 'inherited': True, 'is_categorical': False, 'bad_values': '', 'nullable': 'true', 'field': 'previous_day_covid_ED_visits_7_day_sum', 'alias': 'previous_day_covid_ED_visits_7_day_sum', 'type': 'numeric', 'position': '20'}, {'checked': True, 'inherited': True, 'is_categorical': False, 'bad_values': '', 'nullable': 'true', 'field': 'previous_day_admission_adult_covid_suspected_7_day_sum', 'alias': 'previous_day_admission_adult_covid_suspected_7_day_sum', 'type': 'numeric', 'position': '21'}, {'checked': True, 'inherited': True, 'is_categorical': False, 'bad_values': '', 'nullable': 'true', 'field': 'all_pediatric_inpatient_bed_occupied_7_day_avg', 'alias': 'all_pediatric_inpatient_bed_occupied_7_day_avg', 'type': 'real', 'position': '22'}], 'server': 'https://dnm.bfirst.ai:443', 'server_url': '/nexusMax/NexusMaxPlatform/uploads/platform/', 'delimiter': ',', 'file_type': 'Delimeted', 'filename': 'finalData.csv', 'token': '', 'domain': '', 'is_header': 'Use Header Line', 'url': '/FileStore/platform/uploadedSourceFiles/part-00000-2fdf376b-d6f7-4d08-b32f-5846d45e4971-c000.csv', 'results_url': 'http://dnm.bfirst.ai:44040/api/read/hdfs'}\")\n",
    "\n",
    "except Exception as ex: \n",
    "\tlogging.error(ex)\n"
   ]
  }
 ],
 "metadata": {},
 "nbformat": 4,
 "nbformat_minor": 5
}
